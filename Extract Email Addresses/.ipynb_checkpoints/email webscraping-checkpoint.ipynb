{
 "cells": [
  {
   "cell_type": "code",
   "execution_count": 1,
   "id": "90e0f9ae",
   "metadata": {},
   "outputs": [],
   "source": [
    "import re\n",
    "from requests_html import AsyncHTMLSession, HTMLSession\n",
    "\n",
    "import pandas as pd"
   ]
  },
  {
   "cell_type": "code",
   "execution_count": 2,
   "id": "4cc9382a",
   "metadata": {},
   "outputs": [],
   "source": [
    "url = \"https://www.randomlists.com/email-addresses\"\n",
    "\n",
    "REGEX_FOR_EMAIL = r\"\"\"(?:[a-z0-9!#$%&'*+/=?^_`{|}~-]+(?:\\.[a-z0-9!#$%&'*+/=?^_`{|}~-]+)*|\"(?:[\\x01-\\x08\\x0b\\x0c\\x0e-\\x1f\\x21\\x23-\\x5b\\x5d-\\x7f]|\\\\[\\x01-\\x09\\x0b\\x0c\\x0e-\\x7f])*\")@(?:(?:[a-z0-9](?:[a-z0-9-]*[a-z0-9])?\\.)+[a-z0-9](?:[a-z0-9-]*[a-z0-9])?|\\[(?:(?:(2(5[0-5]|[0-4][0-9])|1[0-9][0-9]|[1-9]?[0-9]))\\.){3}(?:(2(5[0-5]|[0-4][0-9])|1[0-9][0-9]|[1-9]?[0-9])|[a-z0-9-]*[a-z0-9]:(?:[\\x01-\\x08\\x0b\\x0c\\x0e-\\x1f\\x21-\\x5a\\x53-\\x7f]|\\\\[\\x01-\\x09\\x0b\\x0c\\x0e-\\x7f])+)\\])\"\"\""
   ]
  },
  {
   "cell_type": "code",
   "execution_count": 3,
   "id": "33196890",
   "metadata": {},
   "outputs": [],
   "source": [
    "#send get request\n",
    "session = AsyncHTMLSession()"
   ]
  },
  {
   "cell_type": "code",
   "execution_count": 4,
   "id": "22658d62",
   "metadata": {},
   "outputs": [],
   "source": [
    "#save the response\n",
    "response = await session.get(url)"
   ]
  },
  {
   "cell_type": "code",
   "execution_count": 6,
   "id": "96cce05c",
   "metadata": {},
   "outputs": [],
   "source": [
    "#for javascript sites\n",
    "await response.html.arender()"
   ]
  },
  {
   "cell_type": "code",
   "execution_count": null,
   "id": "555c5d44",
   "metadata": {},
   "outputs": [],
   "source": []
  },
  {
   "cell_type": "markdown",
   "id": "50aa3d91",
   "metadata": {},
   "source": [
    "## Method 1"
   ]
  },
  {
   "cell_type": "code",
   "execution_count": 7,
   "id": "228b4c11",
   "metadata": {},
   "outputs": [],
   "source": [
    "email_list = []"
   ]
  },
  {
   "cell_type": "code",
   "execution_count": 8,
   "id": "44913599",
   "metadata": {},
   "outputs": [],
   "source": [
    "# sort and print the emails\n",
    "\n",
    "for email in re.finditer(REGEX_FOR_EMAIL, response.html.raw_html.decode()):\n",
    "    #print(email.group())\n",
    "    email_list.append(email.group())"
   ]
  },
  {
   "cell_type": "code",
   "execution_count": 9,
   "id": "6cbd1663",
   "metadata": {},
   "outputs": [
    {
     "data": {
      "text/plain": [
       "['miami@gmail.com',\n",
       " 'thomasj@hotmail.com',\n",
       " 'jkegl@hotmail.com',\n",
       " 'xnormal@live.com',\n",
       " 'blixem@comcast.net',\n",
       " 'frode@yahoo.com',\n",
       " 'eurohack@gmail.com',\n",
       " 'bryanw@yahoo.com',\n",
       " 'jkegl@yahoo.com',\n",
       " 'afeldspar@icloud.com',\n",
       " 'kalpol@gmail.com',\n",
       " 'oevans@msn.com']"
      ]
     },
     "execution_count": 9,
     "metadata": {},
     "output_type": "execute_result"
    }
   ],
   "source": [
    "email_list"
   ]
  },
  {
   "cell_type": "code",
   "execution_count": 10,
   "id": "d73e5e82",
   "metadata": {},
   "outputs": [],
   "source": [
    "# create dictionary\n",
    "new_dict = {'e-mails':email_list}"
   ]
  },
  {
   "cell_type": "code",
   "execution_count": 11,
   "id": "a2add17f",
   "metadata": {},
   "outputs": [],
   "source": [
    "df = pd.DataFrame(new_dict)"
   ]
  },
  {
   "cell_type": "markdown",
   "id": "27c94cd1",
   "metadata": {},
   "source": [
    "### export to csv file"
   ]
  },
  {
   "cell_type": "code",
   "execution_count": 12,
   "id": "5382e118",
   "metadata": {},
   "outputs": [],
   "source": [
    "df.to_csv('emails_to_file.csv', header=True)"
   ]
  },
  {
   "cell_type": "code",
   "execution_count": null,
   "id": "6413cc5b",
   "metadata": {},
   "outputs": [],
   "source": []
  },
  {
   "cell_type": "markdown",
   "id": "2f5a8512",
   "metadata": {},
   "source": [
    "## Method 2"
   ]
  },
  {
   "cell_type": "code",
   "execution_count": 13,
   "id": "8155deba",
   "metadata": {},
   "outputs": [],
   "source": [
    "links = response.html.find('li')"
   ]
  },
  {
   "cell_type": "code",
   "execution_count": 14,
   "id": "f89642f3",
   "metadata": {},
   "outputs": [
    {
     "name": "stdout",
     "output_type": "stream",
     "text": [
      "miami@gmail.com\n",
      "thomasj@hotmail.com\n",
      "jkegl@hotmail.com\n",
      "xnormal@live.com\n",
      "blixem@comcast.net\n",
      "frode@yahoo.com\n",
      "eurohack@gmail.com\n",
      "bryanw@yahoo.com\n",
      "jkegl@yahoo.com\n",
      "afeldspar@icloud.com\n",
      "kalpol@gmail.com\n",
      "oevans@msn.com\n"
     ]
    }
   ],
   "source": [
    "for i in links:\n",
    "    if re.search(REGEX_FOR_EMAIL, i.text):\n",
    "        print(i.text)"
   ]
  },
  {
   "cell_type": "code",
   "execution_count": null,
   "id": "62dbd117",
   "metadata": {},
   "outputs": [],
   "source": []
  },
  {
   "cell_type": "markdown",
   "id": "ecf06096",
   "metadata": {},
   "source": [
    "## Get All Links on the page"
   ]
  },
  {
   "cell_type": "code",
   "execution_count": 15,
   "id": "3fe27cd4",
   "metadata": {},
   "outputs": [
    {
     "data": {
      "text/plain": [
       "{'https://www.enable-javascript.com/',\n",
       " 'https://www.randomlists.com/',\n",
       " 'https://www.randomlists.com/#browse',\n",
       " 'https://www.randomlists.com/all',\n",
       " 'https://www.randomlists.com/contact',\n",
       " 'https://www.randomlists.com/credit-card-numbers',\n",
       " 'https://www.randomlists.com/fake-name-generator',\n",
       " 'https://www.randomlists.com/faq',\n",
       " 'https://www.randomlists.com/list-randomizer',\n",
       " 'https://www.randomlists.com/phone-numbers',\n",
       " 'https://www.randomlists.com/privacy',\n",
       " 'https://www.randomlists.com/random-addresses',\n",
       " 'https://www.randomlists.com/random-password',\n",
       " 'https://www.randomlists.com/search',\n",
       " 'https://www.randomlists.com/urls'}"
      ]
     },
     "execution_count": 15,
     "metadata": {},
     "output_type": "execute_result"
    }
   ],
   "source": [
    "response.html.absolute_links"
   ]
  },
  {
   "cell_type": "code",
   "execution_count": null,
   "id": "27601122",
   "metadata": {},
   "outputs": [],
   "source": []
  },
  {
   "cell_type": "markdown",
   "id": "43ef9d5d",
   "metadata": {},
   "source": [
    "## Get emails using bs4"
   ]
  },
  {
   "cell_type": "code",
   "execution_count": 16,
   "id": "cac0223e",
   "metadata": {},
   "outputs": [],
   "source": [
    "from bs4 import BeautifulSoup"
   ]
  },
  {
   "cell_type": "code",
   "execution_count": 17,
   "id": "8a4b5f76",
   "metadata": {},
   "outputs": [],
   "source": [
    "bs = BeautifulSoup(response.html.raw_html.decode(), 'html.parser')"
   ]
  },
  {
   "cell_type": "code",
   "execution_count": 18,
   "id": "23b76b76",
   "metadata": {},
   "outputs": [
    {
     "data": {
      "text/plain": [
       "<!DOCTYPE html>\n",
       "<html lang=\"en-US\"><head> <meta charset=\"utf-8\"/> <meta content=\"width=device-width, initial-scale=1\" name=\"viewport\"/> <title>Random Email Addresses</title> <meta content=\"A list of randomly generated email addresses. Validate against it or use it to fill out a form with fake information.\" name=\"description\"/> <link href=\"https://www.randomlists.com/email-addresses\" rel=\"canonical\"/> <meta content=\"en_US\" property=\"og:locale\"/> <meta content=\"website\" property=\"og:type\"/> <meta content=\"Random Email Addresses\" property=\"og:title\"/> <meta content=\"A list of randomly generated email addresses. Validate against it or use it to fill out a form with fake information.\" property=\"og:description\"/> <meta content=\"https://www.randomlists.com/email-addresses\" property=\"og:url\"/> <meta content=\"Random Lists\" property=\"og:site_name\"/> <meta content=\"https://www.randomlists.com/img/og-image.jpg\" property=\"og:image\"/> <meta content=\"https://www.randomlists.com/img/og-image.jpg\" property=\"og:image:secure_url\"/> <meta content=\"1200\" property=\"og:image:height\"/> <meta content=\"1200\" property=\"og:image:width\"/> <meta content=\"Playing cards randomly spread about\" property=\"og:image:alt\"/> <meta content=\"image/jpg\" property=\"og:image:type\"/> <link href=\"/apple-touch-icon.png\" rel=\"apple-touch-icon\" sizes=\"180x180\"/> <link href=\"/favicon-32x32.png\" rel=\"icon\" sizes=\"32x32\" type=\"image/png\"/> <link href=\"/favicon-16x16.png\" rel=\"icon\" sizes=\"16x16\" type=\"image/png\"/> <link href=\"/manifest.json\" rel=\"manifest\"/> <link color=\"#000000\" href=\"/safari-pinned-tab.svg\" rel=\"mask-icon\"/> <meta content=\"#ffffff\" name=\"msapplication-TileColor\"/> <meta content=\"#ffffff\" name=\"theme-color\"/> <link as=\"fetch\" data-rand_json=\"\" href=\"/data/email.json\" rel=\"preload\"/> <style>@charset \"UTF-8\";.Header-content,.layout-main,.main_width{width:100%}@media only screen and (min-width:500px){.Header-content,.layout-main,.main_width{width:calc(100% - 120px - 1rem)}}@media only screen and (min-width:700px){.Header-content,.layout-main,.main_width{width:calc(100% - 160px - 1rem)}}@media only screen and (min-width:900px){.Header-content,.layout-main,.main_width{max-width:calc(100% - 300px - 1rem)}}.Header-content,.layout-main,.main_width{width:100%}@media only screen and (min-width:500px){.Header-content,.layout-main,.main_width{width:calc(100% - 120px - 1rem)}}@media only screen and (min-width:700px){.Header-content,.layout-main,.main_width{width:calc(100% - 160px - 1rem)}}@media only screen and (min-width:900px){.Header-content,.layout-main,.main_width{max-width:calc(100% - 300px - 1rem)}}html{font-size:14px}@media only screen and (min-width:728px){html{font-size:16px}}body{background:#efefea}body,input{margin:0;font-family:Roboto;line-height:1.4em}h1,h2,h3,p{margin-top:0;margin-bottom:1rem}h1,h2,h3{font-family:\"Roboto Condensed\";font-weight:400;line-height:1.1em}h1{font-size:1.8rem}h2{font-size:1.4rem}h3{font-size:1.2rem}strong{font-weight:500}.section_wide{max-width:1200px;margin-left:auto;margin-right:auto;box-sizing:border-box}.section_wide.section_gutter{box-sizing:content-box}.section_gutter{padding-left:1rem;padding-right:1rem;box-sizing:border-box}.button{display:-webkit-inline-box;display:inline-flex;-webkit-box-orient:vertical;-webkit-box-direction:normal;flex-direction:column;-webkit-box-align:center;align-items:center;text-align:center;-webkit-box-pack:center;justify-content:center;text-decoration:none;color:#fff;box-sizing:border-box;border-width:0;background:#0e1a35;cursor:pointer;height:44px;width:48px;padding:2px;font-size:8px;line-height:1.25em;-webkit-transition:all ease .2s;transition:all ease .2s;text-transform:uppercase;font-family:Arial}.button:before{font-family:icon;font-size:1.2rem;line-height:1em;margin-bottom:.4rem}.button:hover{background:#224287}.button:focus{outline-style:solid;outline-width:2px}.button--yo{background:#1985a3!important}.button--yay{background:#19a337!important}.button--yay:before{content:\"\"!important}.button--edit:before{content:\"\"!important}.button--wide{width:64px}.button:disabled{background:#222;cursor:no-drop;opacity:.8}.js_notice{position:fixed;bottom:0;left:0;width:100%;padding:1rem;background:#a32019;color:#fff;text-align:center}.js_notice a{color:currentColor}@font-face{font-family:icon;src:url(/vendor/icomoon/fonts/icomoon.ttf?cq58c8) format(\"truetype\"),url(/vendor/icomoon/fonts/icomoon.woff?cq58c8) format(\"woff\"),url(/vendor/icomoon/fonts/icomoon.svg?cq58c8#icomoon) format(\"svg\");font-weight:400;font-style:normal}.layout{display:-webkit-box;display:flex;flex-wrap:wrap;-webkit-box-pack:justify;justify-content:space-between}.layout-main{background:#fff;box-shadow:0 0 1rem rgba(0,0,0,.2)}.layout-top{margin:.5rem 0 1.5rem;display:-webkit-box;display:flex;-webkit-box-align:center;align-items:center;-webkit-box-pack:center;justify-content:center}.adsbygoogle--top{width:320px;min-height:50px;max-height:100px}@media only screen and (min-width:630px){.adsbygoogle--top{width:468px;height:60px;min-height:0;max-height:none}}@media only screen and (min-width:1065px){.adsbygoogle--top{width:728px;height:90px}}.adsbygoogle--side1,.adsbygoogle--side2,.layout-side{display:none}@media only screen and (min-width:500px){.layout-side{display:-webkit-box;display:flex;display:block;margin:-2rem 0 0;width:120px}.adsbygoogle--side1,.adsbygoogle--side2{display:block;width:120px;height:600px}}@media only screen and (min-width:700px){.layout-side{width:160px}.adsbygoogle--side1,.adsbygoogle--side2{width:160px;height:600px}}@media only screen and (min-width:900px){.layout-side{width:300px}.adsbygoogle--side1{width:300px;height:250px}.adsbygoogle--side2{width:300px;height:600px}}.Header{background:#182e5e;color:#fff;border-bottom:solid 1px rgba(0,0,0,.1)}.Header a{color:inherit}.Header-content{display:-webkit-box;display:flex;height:3rem}.Header-logo{margin-left:-1rem;margin-right:auto}.Header-logo a{display:-webkit-box;display:flex;-webkit-box-align:center;align-items:center;font-size:1.5rem;line-height:1em;height:3rem;padding:0 1rem;text-decoration:none;white-space:nowrap;position:relative;margin-left:-.2rem}.Header-logo a:before{content:'';background:url(data:image/svg+xml;base64,PD94bWwgdmVyc2lvbj0iMS4wIiBlbmNvZGluZz0idXRmLTgiPz48c3ZnIHZlcnNpb249IjEuMSIgeG1sbnM9Imh0dHA6Ly93d3cudzMub3JnLzIwMDAvc3ZnIiB4bWxuczp4bGluaz0iaHR0cDovL3d3dy53My5vcmcvMTk5OS94bGluayIgeD0iMHB4IiB5PSIwcHgiIHZpZXdCb3g9IjAgMCAyNCAyNCIgc3R5bGU9ImVuYWJsZS1iYWNrZ3JvdW5kOm5ldyAwIDAgMjQgMjQ7IiB4bWw6c3BhY2U9InByZXNlcnZlIj48cmVjdCB4PSIxIiB5PSIxIiBmaWxsPSIjZmZmIiB3aWR0aD0iMjIiIGhlaWdodD0iMjIiLz48Zz48cGF0aCBkPSJNMjMsMEgxQzAuNCwwLDAsMC40LDAsMXYyMmMwLDAuNiwwLjQsMSwxLDFoMjJjMC42LDAsMS0wLjQsMS0xVjFDMjQsMC40LDIzLjYsMCwyMywweiBNMjIsMjJIMlYyaDIwVjIyeiIvPjxwYXRoIGQ9Ik0xMiwxNGMxLjEsMCwyLTAuOSwyLTJzLTAuOS0yLTItMnMtMiwwLjktMiwyUzEwLjksMTQsMTIsMTR6Ii8+PHBhdGggZD0iTTE3LDE5YzEuMSwwLDItMC45LDItMnMtMC45LTItMi0ycy0yLDAuOS0yLDJTMTUuOSwxOSwxNywxOXoiLz48cGF0aCBkPSJNNyw5YzEuMSwwLDItMC45LDItMlM4LjEsNSw3LDVTNSw1LjksNSw3UzUuOSw5LDcsOXoiLz48cGF0aCBkPSJNMTcsOWMxLjEsMCwyLTAuOSwyLTJzLTAuOS0yLTItMnMtMiwwLjktMiwyUzE1LjksOSwxNyw5eiIvPjxwYXRoIGQ9Ik03LDE5YzEuMSwwLDItMC45LDItMnMtMC45LTItMi0ycy0yLDAuOS0yLDJTNS45LDE5LDcsMTl6Ii8+PC9nPjwvc3ZnPg==) no-repeat 0 0;background-size:1.25rem 1.25rem;width:1.25rem;height:1.25rem;margin-right:.2rem}.Header-menu{display:-webkit-box;display:flex;margin-right:-1rem}.Header-menu>a{height:3rem;width:3rem;margin-left:2px}.Header-menu [href*=search]:before{content:\"\"}.Header-menu [href*=browse]:before{content:\"\";margin-bottom:.2rem;line-height:1.4rem}.Header-suggested{margin:0 .4rem 0 0;overflow:hidden;height:3rem;font-size:.9rem}.Header-suggested ul{margin:0;padding:0;list-style:none;display:-webkit-box;display:flex;flex-wrap:wrap;display:flex;-webkit-box-pack:end;justify-content:flex-end}.Header-suggested li{display:-webkit-box;display:flex;padding:0}.Header-suggested a{display:-webkit-box;display:flex;-webkit-box-align:center;align-items:center;line-height:1em;height:3rem;padding:0 .5rem}@media only screen and (max-width:620px){.Header-suggested{display:none}}.Header-search{display:none}.Rand-header{margin:1rem 0 2rem;padding-top:1rem;display:-webkit-box;display:flex;-webkit-box-pack:justify;justify-content:space-between}.Rand-headline{margin:0 1rem 0 0;align-self:center}.Rand-tools1{align-self:flex-start;margin:0;white-space:nowrap;position:relative}.Rand-tools2{display:-webkit-box;display:flex;-webkit-box-pack:center;justify-content:center;position:relative;margin:2rem 0;text-align:center}.ShareButtons:not([hidden]){display:-webkit-box;display:flex;-webkit-box-pack:center;justify-content:center;text-align:center;position:absolute;top:calc(100%);left:50%;-webkit-transform:translateX(-50%);transform:translateX(-50%);z-index:10;padding:4px;background:rgba(255,255,255,.8)}.Rand-tools1 button:not(:first-child),.Rand-tools2 button:not(:first-child),.ShareButtons button:not(:first-child){margin-left:4px}.Rand-ad{display:-webkit-box;display:flex;margin:1rem -1rem;-webkit-box-pack:center;justify-content:center}.adsbygoogle--rand{width:300px;height:250px}@media only screen and (min-width:350px){.adsbygoogle--rand{width:336px;height:280px}}@media only screen and (min-width:1065px){.adsbygoogle--rand{width:728px;height:90px}}@media only screen and (min-width:468px){.Rand-grid{display:-webkit-box;display:flex;-webkit-box-pack:justify;justify-content:space-between;-webkit-box-align:start;align-items:flex-start}.Rand-grid>*{width:calc(50% - 1.5rem)}}.RandOptions+.RandCopy{padding-top:1rem}.RandCopy-nav .select-nav a:after{content:\",\"}.RandCopy-nav *{display:inline;padding:0}.RandOptions{background:rgba(1,1,1,.02);padding:1rem}.RandOptions h2{margin:0 0 1rem}.RandOptions-row{margin:0 0 1rem}.RandOptions-row input:not([type=checkbox]),.RandOptions-row select,.RandOptions-row textarea{padding:.5rem;box-sizing:border-box;min-width:140px;max-width:100%}.RandOptions-row label:first-child{display:block;margin-bottom:.1rem}.RandOptions-row input:not(:first-child),.RandOptions-row select{display:block}.RandOptions-row textarea{min-height:200px;width:100%}.RandOptions-row input[type=number]{min-width:0;width:5em}.RandOptions-row input[type=checkbox]{width:1.5rem;height:1.5rem;vertical-align:bottom}.RandOptions-helper{display:block;font-size:.7rem;line-height:1.1em;margin-top:.1rem}[data-action=rerun]:before{content:\"\"}[data-action=options]:before{content:\"\"}[data-action=share]:before{content:\"\"}[data-share=copy]:before{content:\"\"}[data-share=facebook]:before{content:\"\"}[data-share=twitter]:before{content:\"\"}[data-share=reddit]:before{content:\"\"}.Rand-stage-loading{width:100%;text-align:center;font-size:12px;text-indent:.8em;text-transform:uppercase;line-height:1em;background:transparent url(/img/loading.gif) no-repeat 50% .5rem;padding:2rem 1rem 1rem}.Rand-stage--no_images{text-align:left!important}.Rand-stage--no_images .img,.Rand-stage--no_images img{display:none!important}.Rand-stage--highlight,.RandOptions--highlight{background:rgba(1,1,1,.04)!important}.Rand-stage{display:-webkit-box;display:flex;margin:0;background:rgba(1,1,1,.02);padding:1rem .5rem 1rem 0}.Rand-stage ol,.Rand-stage ul{display:-webkit-box;display:flex;flex-wrap:wrap;width:100%;margin:0;padding:0;list-style:none}.Rand-stage li{position:relative;margin:0 0 .5rem;padding:.5rem 1rem;box-sizing:border-box;word-break:break-word;min-width:20%}@media only screen and (min-width:900px){.Rand-stage li{min-width:10%}}.Rand-stage ol{counter-reset:li;padding-left:.5rem}.Rand-stage ol>li{position:relative}.Rand-stage ol>li:before{counter-increment:li;content:counter(li);position:absolute;right:calc(100% - .8rem + .5ex);top:calc(.5rem + .5em);font-size:.8rem;line-height:1em;font-family:monospace;opacity:.5;text-align:right;white-space:nowrap}.Rand-stage img{max-width:100%;height:auto}.Rand-stage>ol>li img{display:inline-block;margin:0 0 4px}.Rand-stage>ol>li a.biglink{display:block;position:relative;padding:0 1rem 0 0;text-decoration:none}.Rand-stage>ol>li a.biglink:after{content:\"\";font-family:icon;position:absolute;bottom:0;right:0;font-size:1rem;color:#000;-webkit-transition:opacity .3s ease,color .3s ease;transition:opacity .3s ease,color .3s ease;opacity:.75}.Rand-stage>ol>li a.biglink:hover:after{color:#0e1a35;opacity:1}span.rand_large,span.rand_medium,span.rand_small{display:block}.rand_huge{font-size:2.5rem;line-height:1.1em}.rand_large{font-size:1.5rem;line-height:1.25em}.rand_medium{font-size:1rem;color:#000}.rand_small{font-size:.8rem;color:#999}.monospace{font-family:monospace}</style> <link as=\"style\" href=\"/css/defer.css?v=1575659034\" onload=\"this.rel='stylesheet'\" rel=\"stylesheet\"/> <link as=\"style\" href=\"https://fonts.googleapis.com/css?family=Roboto%2BCondensed%7CRoboto%3A400%2C500&amp;display=swap\" onload=\"this.rel='stylesheet'\" rel=\"stylesheet\"/> <script src=\"https://partner.googleadservices.com/gampad/cookie.js?domain=www.randomlists.com&amp;callback=_gfp_s_&amp;client=ca-pub-5711305288167877&amp;cookie=ID%3Db94b23a8591365f5-22933e334adc00d0%3AT%3D1680216380%3ART%3D1680216380%3AS%3DALNI_MaaJTTpDBWFkvtXLyGkJ8HEPhViXg&amp;gpic=UID%3D00000bf8fa6baa94%3AT%3D1680216380%3ART%3D1680216380%3AS%3DALNI_Mav6uZ-4N1VfJ0vmh-lcS-Uoi-kJg\"></script><script async=\"\" src=\"https://www.google-analytics.com/analytics.js\" type=\"text/javascript\"></script><script async=\"\" src=\"https://www.googletagmanager.com/gtag/js?id=G-50DQ59G7N7&amp;l=dataLayer&amp;cx=c\" type=\"text/javascript\"></script><script id=\"google_shimpl\" src=\"https://pagead2.googlesyndication.com/pagead/managed/js/adsense/m202303270101/show_ads_impl.js?bust=31073473\"></script><script async=\"\" src=\"//pagead2.googlesyndication.com/pagead/js/adsbygoogle.js\"></script> <script> (adsbygoogle = window.adsbygoogle || []).push({ google_ad_client: \"ca-pub-5711305288167877\", enable_page_level_ads: true }); </script> <script defer=\"\" src=\"/js/defer.js?v=1575659071\"></script> <script async=\"\" src=\"https://www.googletagmanager.com/gtag/js?id=G-50DQ59G7N7\"></script> <script> window.dataLayer = window.dataLayer || []; function gtag(){dataLayer.push(arguments);} gtag('js', new Date()); gtag('config', 'G-50DQ59G7N7'); </script> <script async=\"\" src=\"https://www.googletagmanager.com/gtag/js?id=UA-40634703-1\"></script> <script> gtag('config', 'UA-40634703-1'); </script> <script src=\"https://pagead2.googlesyndication.com/pagead/js/adsbygoogle.js\"></script><style id=\"style_rand_stage\">.Rand-stage > ol > li{min-width:50%;}</style><meta content=\"A0VQgOQvA+kwCj319NCwgf8+syUgEQ8/LLpB8RxxlRC3AkJ9xx8IAvVuQ/dcwy0ok7sGKufLLu6WhsXbQR9/UwwAAACFeyJvcmlnaW4iOiJodHRwczovL2RvdWJsZWNsaWNrLm5ldDo0NDMiLCJmZWF0dXJlIjoiUHJpdmFjeVNhbmRib3hBZHNBUElzIiwiZXhwaXJ5IjoxNjg4MDgzMTk5LCJpc1N1YmRvbWFpbiI6dHJ1ZSwiaXNUaGlyZFBhcnR5Ijp0cnVlfQ==\" http-equiv=\"origin-trial\"/><meta content=\"A6kRo9zXJhOvsR4D/VeZ9CiApPAxnOGzBkW88d8eIt9ex2oOzlX+AoUk/BS50Y9Ysy2jwyHR49Mb7XwP+l9yygIAAACLeyJvcmlnaW4iOiJodHRwczovL2dvb2dsZXN5bmRpY2F0aW9uLmNvbTo0NDMiLCJmZWF0dXJlIjoiUHJpdmFjeVNhbmRib3hBZHNBUElzIiwiZXhwaXJ5IjoxNjg4MDgzMTk5LCJpc1N1YmRvbWFpbiI6dHJ1ZSwiaXNUaGlyZFBhcnR5Ijp0cnVlfQ==\" http-equiv=\"origin-trial\"/><meta content=\"A3mbHZoS4VJtJ8j1aE8+Z9vaGf/oMV1eTNIWMrvGqWgNnOmvaxnRGliqKIZU2eiTzCj5Qpz8B1/UTTLuony5bAAAAACLeyJvcmlnaW4iOiJodHRwczovL2dvb2dsZXRhZ3NlcnZpY2VzLmNvbTo0NDMiLCJmZWF0dXJlIjoiUHJpdmFjeVNhbmRib3hBZHNBUElzIiwiZXhwaXJ5IjoxNjg4MDgzMTk5LCJpc1N1YmRvbWFpbiI6dHJ1ZSwiaXNUaGlyZFBhcnR5Ijp0cnVlfQ==\" http-equiv=\"origin-trial\"/><meta content=\"As0hBNJ8h++fNYlkq8cTye2qDLyom8NddByiVytXGGD0YVE+2CEuTCpqXMDxdhOMILKoaiaYifwEvCRlJ/9GcQ8AAAB8eyJvcmlnaW4iOiJodHRwczovL2RvdWJsZWNsaWNrLm5ldDo0NDMiLCJmZWF0dXJlIjoiV2ViVmlld1hSZXF1ZXN0ZWRXaXRoRGVwcmVjYXRpb24iLCJleHBpcnkiOjE3MTk1MzI3OTksImlzU3ViZG9tYWluIjp0cnVlfQ==\" http-equiv=\"origin-trial\"/><meta content=\"AgRYsXo24ypxC89CJanC+JgEmraCCBebKl8ZmG7Tj5oJNx0cmH0NtNRZs3NB5ubhpbX/bIt7l2zJOSyO64NGmwMAAACCeyJvcmlnaW4iOiJodHRwczovL2dvb2dsZXN5bmRpY2F0aW9uLmNvbTo0NDMiLCJmZWF0dXJlIjoiV2ViVmlld1hSZXF1ZXN0ZWRXaXRoRGVwcmVjYXRpb24iLCJleHBpcnkiOjE3MTk1MzI3OTksImlzU3ViZG9tYWluIjp0cnVlfQ==\" http-equiv=\"origin-trial\"/><meta content=\"A0VQgOQvA+kwCj319NCwgf8+syUgEQ8/LLpB8RxxlRC3AkJ9xx8IAvVuQ/dcwy0ok7sGKufLLu6WhsXbQR9/UwwAAACFeyJvcmlnaW4iOiJodHRwczovL2RvdWJsZWNsaWNrLm5ldDo0NDMiLCJmZWF0dXJlIjoiUHJpdmFjeVNhbmRib3hBZHNBUElzIiwiZXhwaXJ5IjoxNjg4MDgzMTk5LCJpc1N1YmRvbWFpbiI6dHJ1ZSwiaXNUaGlyZFBhcnR5Ijp0cnVlfQ==\" http-equiv=\"origin-trial\"/><meta content=\"A6kRo9zXJhOvsR4D/VeZ9CiApPAxnOGzBkW88d8eIt9ex2oOzlX+AoUk/BS50Y9Ysy2jwyHR49Mb7XwP+l9yygIAAACLeyJvcmlnaW4iOiJodHRwczovL2dvb2dsZXN5bmRpY2F0aW9uLmNvbTo0NDMiLCJmZWF0dXJlIjoiUHJpdmFjeVNhbmRib3hBZHNBUElzIiwiZXhwaXJ5IjoxNjg4MDgzMTk5LCJpc1N1YmRvbWFpbiI6dHJ1ZSwiaXNUaGlyZFBhcnR5Ijp0cnVlfQ==\" http-equiv=\"origin-trial\"/><meta content=\"A3mbHZoS4VJtJ8j1aE8+Z9vaGf/oMV1eTNIWMrvGqWgNnOmvaxnRGliqKIZU2eiTzCj5Qpz8B1/UTTLuony5bAAAAACLeyJvcmlnaW4iOiJodHRwczovL2dvb2dsZXRhZ3NlcnZpY2VzLmNvbTo0NDMiLCJmZWF0dXJlIjoiUHJpdmFjeVNhbmRib3hBZHNBUElzIiwiZXhwaXJ5IjoxNjg4MDgzMTk5LCJpc1N1YmRvbWFpbiI6dHJ1ZSwiaXNUaGlyZFBhcnR5Ijp0cnVlfQ==\" http-equiv=\"origin-trial\"/><meta content=\"As0hBNJ8h++fNYlkq8cTye2qDLyom8NddByiVytXGGD0YVE+2CEuTCpqXMDxdhOMILKoaiaYifwEvCRlJ/9GcQ8AAAB8eyJvcmlnaW4iOiJodHRwczovL2RvdWJsZWNsaWNrLm5ldDo0NDMiLCJmZWF0dXJlIjoiV2ViVmlld1hSZXF1ZXN0ZWRXaXRoRGVwcmVjYXRpb24iLCJleHBpcnkiOjE3MTk1MzI3OTksImlzU3ViZG9tYWluIjp0cnVlfQ==\" http-equiv=\"origin-trial\"/><meta content=\"AgRYsXo24ypxC89CJanC+JgEmraCCBebKl8ZmG7Tj5oJNx0cmH0NtNRZs3NB5ubhpbX/bIt7l2zJOSyO64NGmwMAAACCeyJvcmlnaW4iOiJodHRwczovL2dvb2dsZXN5bmRpY2F0aW9uLmNvbTo0NDMiLCJmZWF0dXJlIjoiV2ViVmlld1hSZXF1ZXN0ZWRXaXRoRGVwcmVjYXRpb24iLCJleHBpcnkiOjE3MTk1MzI3OTksImlzU3ViZG9tYWluIjp0cnVlfQ==\" http-equiv=\"origin-trial\"/><link as=\"script\" href=\"https://adservice.google.com.ng/adsid/integrator.js?domain=www.randomlists.com\" rel=\"preload\"/><script src=\"https://adservice.google.com.ng/adsid/integrator.js?domain=www.randomlists.com\" type=\"text/javascript\"></script><link as=\"script\" href=\"https://adservice.google.com/adsid/integrator.js?domain=www.randomlists.com\" rel=\"preload\"/><script src=\"https://adservice.google.com/adsid/integrator.js?domain=www.randomlists.com\" type=\"text/javascript\"></script></head> <body> <header class=\"Header\"> <div class=\"section_wide\"> <div class=\"Header-content section_gutter\"> <div class=\"Header-logo\"> <a href=\"/\">Random Lists</a> </div> <nav class=\"Header-suggested\"> <ul> <li><a href=\"/phone-numbers\">Phone Numbers</a></li> <li><a href=\"/random-password\">Passwords</a></li> <li><a href=\"/urls\">URLs</a></li> <li><a href=\"/fake-name-generator\">Fake Names</a></li> <li><a href=\"/credit-card-numbers\">Credit Cards</a></li> </ul> </nav> <div class=\"Header-menu\"> <a class=\"button\" href=\"/search\">Search</a> <a class=\"button\" href=\"/#browse\">Menu</a> </div> <div class=\"Header-search\"> <form action=\"/search\" method=\"get\"> <div class=\"Header-search_flex\"> <input name=\"q\" placeholder=\"Search…\" required=\"\" type=\"text\"/> <button class=\"button\"><span>Search</span></button> </div> </form> </div> </div> </div> </header> <div class=\"layout section_wide\"> <div class=\"layout-main\"> <div class=\"layout-top\"> <ins class=\"adsbygoogle adsbygoogle--top\" data-ad-client=\"ca-pub-5711305288167877\" data-ad-slot=\"3781211666\" data-adsbygoogle-status=\"done\" style=\"display: inline-block; width: 468px; height: 60px;\"><div aria-label=\"Advertisement\" id=\"aswift_1_host\" style=\"border: none; height: 60px; width: 468px; margin: 0px; padding: 0px; position: relative; visibility: visible; background-color: transparent; display: inline-block;\" tabindex=\"0\" title=\"Advertisement\"><iframe allowtransparency=\"true\" data-google-container-id=\"a!2\" data-google-query-id=\"CMLyi-ndhP4CFdWimgodYbIEnQ\" data-load-complete=\"true\" frameborder=\"0\" height=\"60\" hspace=\"0\" id=\"aswift_1\" marginheight=\"0\" marginwidth=\"0\" name=\"aswift_1\" sandbox=\"allow-forms allow-popups allow-popups-to-escape-sandbox allow-same-origin allow-scripts allow-top-navigation-by-user-activation\" scrolling=\"no\" src=\"https://googleads.g.doubleclick.net/pagead/ads?client=ca-pub-5711305288167877&amp;output=html&amp;h=60&amp;slotname=3781211666&amp;adk=859096250&amp;adf=2369281301&amp;pi=t.ma~as.3781211666&amp;w=468&amp;lmt=1680191109&amp;rafmt=12&amp;format=468x60&amp;url=https%3A%2F%2Fwww.randomlists.com%2Femail-addresses&amp;wgl=1&amp;dt=1680216391738&amp;bpp=4&amp;bdt=898&amp;idt=333&amp;shv=r20230328&amp;mjsv=m202303270101&amp;ptt=9&amp;saldr=aa&amp;abxe=1&amp;cookie=ID%3Db94b23a8591365f5-22933e334adc00d0%3AT%3D1680216380%3ART%3D1680216380%3AS%3DALNI_MaaJTTpDBWFkvtXLyGkJ8HEPhViXg&amp;gpic=UID%3D00000bf8fa6baa94%3AT%3D1680216380%3ART%3D1680216380%3AS%3DALNI_Mav6uZ-4N1VfJ0vmh-lcS-Uoi-kJg&amp;prev_fmts=0x0&amp;nras=1&amp;correlator=1820526538295&amp;frm=20&amp;pv=1&amp;ga_vid=476895667.1680216379&amp;ga_sid=1680216392&amp;ga_hid=1423241503&amp;ga_fc=1&amp;ga_cid=123464488.1680216381&amp;u_tz=60&amp;u_his=2&amp;u_h=600&amp;u_w=800&amp;u_ah=600&amp;u_aw=800&amp;u_cd=24&amp;u_sd=1&amp;dmc=8&amp;adx=78&amp;ady=57&amp;biw=800&amp;bih=600&amp;scr_x=0&amp;scr_y=0&amp;eid=44759926%2C44759875%2C44777876%2C44759842%2C31073379%2C31073473%2C44774292&amp;oid=2&amp;pvsid=3115238121763954&amp;tmod=362823044&amp;nvt=1&amp;fc=1920&amp;brdim=0%2C0%2C0%2C0%2C800%2C0%2C800%2C600%2C800%2C600&amp;vis=1&amp;rsz=%7C%7CeE%7C&amp;abl=CS&amp;pfx=0&amp;fu=256&amp;bc=31&amp;ifi=2&amp;uci=a!2&amp;fsb=1&amp;xpc=5AEAGAvocU&amp;p=https%3A//www.randomlists.com&amp;dtd=347\" style=\"left:0;position:absolute;top:0;border:0;width:468px;height:60px;\" vspace=\"0\" width=\"468\"></iframe></div></ins> <script> (adsbygoogle = window.adsbygoogle || []).push({}); </script> </div> <main class=\"layout-part3 section_gutter\"> <article> <div class=\"Rand-header\"> <h1 class=\"Rand-headline\">Random Email Addresses:</h1> <aside class=\"Rand-tools1\"> <button class=\"button\" data-action=\"rerun\">Rerun</button><button class=\"button\" data-action=\"options\">Options</button> </aside> </div> <div class=\"Rand-stage\"><ol class=\"rand_large\"><li><div>miami@gmail.com</div></li><li><div>thomasj@hotmail.com</div></li><li><div>jkegl@hotmail.com</div></li><li><div>xnormal@live.com</div></li><li><div>blixem@comcast.net</div></li><li><div>frode@yahoo.com</div></li><li><div>eurohack@gmail.com</div></li><li><div>bryanw@yahoo.com</div></li><li><div>jkegl@yahoo.com</div></li><li><div>afeldspar@icloud.com</div></li><li><div>kalpol@gmail.com</div></li><li><div>oevans@msn.com</div></li></ol></div> <aside class=\"Rand-tools2\"> <button class=\"button\" data-action=\"rerun\">Rerun</button><button class=\"button\" data-action=\"options\">Options</button> <button aria-controls=\"Rand-ShareButtons\" aria-expanded=\"false\" class=\"button\" data-action=\"share\" id=\"Rand-ShareButtonsLabel\">Share</button> <div aria-labelledby=\"Rand-ShareButtonsLabel\" class=\"ShareButtons\" hidden=\"\" id=\"Rand-ShareButtons\"> <button class=\"button\" data-share=\"copy\">Copy URL</button> <button class=\"button\" data-share=\"facebook\">Facebook</button> <button class=\"button\" data-share=\"twitter\">Twitter</button> <button class=\"button\" data-share=\"reddit\">Reddit</button> </div> </aside> <aside class=\"Rand-ad\"> <ins class=\"adsbygoogle adsbygoogle--rand\" data-ad-client=\"ca-pub-5711305288167877\" data-ad-slot=\"1928302466\" data-adsbygoogle-status=\"done\" style=\"display: inline-block; width: 336px; height: 0px;\"><div aria-label=\"Advertisement\" id=\"aswift_2_host\" style=\"border: none; height: 0px; width: 336px; margin: 0px; padding: 0px; position: relative; visibility: visible; background-color: transparent; display: inline-block; overflow: hidden; opacity: 0;\" tabindex=\"0\" title=\"Advertisement\"><iframe allowtransparency=\"true\" data-google-container-id=\"a!3\" data-google-query-id=\"CN2FkundhP4CFRLXmgodWPoGow\" data-load-complete=\"true\" frameborder=\"0\" height=\"0\" hspace=\"0\" id=\"aswift_2\" marginheight=\"0\" marginwidth=\"0\" name=\"aswift_2\" sandbox=\"allow-forms allow-popups allow-popups-to-escape-sandbox allow-same-origin allow-scripts allow-top-navigation-by-user-activation\" scrolling=\"no\" src=\"https://googleads.g.doubleclick.net/pagead/ads?client=ca-pub-5711305288167877&amp;output=html&amp;h=280&amp;slotname=1928302466&amp;adk=2023677619&amp;adf=618640748&amp;pi=t.ma~as.1928302466&amp;w=336&amp;lmt=1680191109&amp;rafmt=12&amp;format=336x280&amp;url=https%3A%2F%2Fwww.randomlists.com%2Femail-addresses&amp;wgl=1&amp;dt=1680216391742&amp;bpp=1&amp;bdt=902&amp;idt=351&amp;shv=r20230328&amp;mjsv=m202303270101&amp;ptt=9&amp;saldr=aa&amp;abxe=1&amp;cookie=ID%3Db94b23a8591365f5-22933e334adc00d0%3AT%3D1680216380%3ART%3D1680216380%3AS%3DALNI_MaaJTTpDBWFkvtXLyGkJ8HEPhViXg&amp;gpic=UID%3D00000bf8fa6baa94%3AT%3D1680216380%3ART%3D1680216380%3AS%3DALNI_Mav6uZ-4N1VfJ0vmh-lcS-Uoi-kJg&amp;prev_fmts=0x0%2C468x60&amp;nras=1&amp;correlator=1820526538295&amp;frm=20&amp;pv=1&amp;ga_vid=476895667.1680216379&amp;ga_sid=1680216392&amp;ga_hid=1423241503&amp;ga_fc=1&amp;ga_cid=123464488.1680216381&amp;u_tz=60&amp;u_his=2&amp;u_h=600&amp;u_w=800&amp;u_ah=600&amp;u_aw=800&amp;u_cd=24&amp;u_sd=1&amp;dmc=8&amp;adx=144&amp;ady=697&amp;biw=800&amp;bih=600&amp;scr_x=0&amp;scr_y=0&amp;eid=44759926%2C44759875%2C44777876%2C44759842%2C31073379%2C31073473%2C44774292&amp;oid=2&amp;pvsid=3115238121763954&amp;tmod=362823044&amp;nvt=1&amp;fc=1920&amp;brdim=0%2C0%2C0%2C0%2C800%2C0%2C800%2C600%2C800%2C600&amp;vis=1&amp;rsz=%7C%7CeEbr%7C&amp;abl=CS&amp;pfx=0&amp;fu=256&amp;bc=31&amp;ifi=3&amp;uci=a!3&amp;btvi=1&amp;fsb=1&amp;xpc=M56Tz0krTb&amp;p=https%3A//www.randomlists.com&amp;dtd=358\" style=\"left: 0px; position: absolute; top: 0px; border: 0px; width: 336px; height: 0px;\" vspace=\"0\" width=\"336\"></iframe></div></ins> <script> (adsbygoogle = window.adsbygoogle || []).push({}); </script> </aside> <div class=\"Rand-grid\"> <aside class=\"RandOptions\"> <h2>Edit Settings</h2> <form action=\"#\" id=\"rand_options\"> <p class=\"RandOptions-row\"> <label for=\"rand_options_qty\">Quantity</label> <input id=\"rand_options_qty\" name=\"qty\" type=\"number\" value=\"12\"/> </p> </form> <p><button class=\"button\" data-action=\"rerun\">Rerun</button></p> </aside> <div class=\"RandCopy\"> <p>Notice: Since these are randomly generated, some of this email address may be unintentionally real.</p> <p>Want a <a href=\"/fake-name-generator\">fake name</a> or <a href=\"/random-addresses\">address</a> too?</p> </div> </div> </article> <div id=\"rand-image-preload\"></div> <script>const rand = \"email\";</script> <script type=\"application/ld+json\">{\"@context\":\"https:\\/\\/schema.org\",\"@type\":\"BreadcrumbList\",\"itemListElement\":[{\"@type\":\"ListItem\",\"position\":1,\"name\":\"Random Lists\",\"item\":\"https:\\/\\/www.randomlists.com\\/\"},{\"@type\":\"ListItem\",\"position\":1,\"name\":\"Emails\",\"item\":\"https:\\/\\/www.randomlists.com\\/email-addresses\"}]}</script> </main> <div class=\"layout-prefooter\"> <ins class=\"adsbygoogle adsbygoogle--prefooter\" data-ad-client=\"ca-pub-5711305288167877\" data-ad-slot=\"3781211666\" data-adsbygoogle-status=\"done\" style=\"display: inline-block; width: auto; height: auto;\"><div aria-label=\"Advertisement\" id=\"aswift_3_host\" style=\"border: none; height: 0px; width: 0px; margin: 0px; padding: 0px; position: relative; visibility: visible; background-color: transparent; display: inline-block; overflow: hidden; opacity: 0;\" tabindex=\"0\" title=\"Advertisement\"><iframe allowtransparency=\"true\" data-google-container-id=\"a!4\" data-google-query-id=\"CPKPjOndhP4CFUOimgodqYcEpA\" data-load-complete=\"true\" frameborder=\"0\" height=\"0\" hspace=\"0\" id=\"aswift_3\" marginheight=\"0\" marginwidth=\"0\" name=\"aswift_3\" sandbox=\"allow-forms allow-popups allow-popups-to-escape-sandbox allow-same-origin allow-scripts allow-top-navigation-by-user-activation\" scrolling=\"no\" src=\"https://googleads.g.doubleclick.net/pagead/ads?client=ca-pub-5711305288167877&amp;output=html&amp;h=0&amp;slotname=3781211666&amp;adk=3767528217&amp;adf=2689116385&amp;pi=t.ma~as.3781211666&amp;w=0&amp;lmt=1680191109&amp;rafmt=12&amp;format=0x0&amp;url=https%3A%2F%2Fwww.randomlists.com%2Femail-addresses&amp;wgl=1&amp;dt=1680216391742&amp;bpp=3&amp;bdt=902&amp;idt=368&amp;shv=r20230328&amp;mjsv=m202303270101&amp;ptt=9&amp;saldr=aa&amp;abxe=1&amp;cookie=ID%3Db94b23a8591365f5-22933e334adc00d0%3AT%3D1680216380%3ART%3D1680216380%3AS%3DALNI_MaaJTTpDBWFkvtXLyGkJ8HEPhViXg&amp;gpic=UID%3D00000bf8fa6baa94%3AT%3D1680216380%3ART%3D1680216380%3AS%3DALNI_Mav6uZ-4N1VfJ0vmh-lcS-Uoi-kJg&amp;prev_fmts=0x0%2C468x60%2C336x280&amp;nras=1&amp;correlator=1820526538295&amp;frm=20&amp;pv=1&amp;ga_vid=476895667.1680216379&amp;ga_sid=1680216392&amp;ga_hid=1423241503&amp;ga_fc=1&amp;ga_cid=123464488.1680216381&amp;u_tz=60&amp;u_his=2&amp;u_h=600&amp;u_w=800&amp;u_ah=600&amp;u_aw=800&amp;u_cd=24&amp;u_sd=1&amp;dmc=8&amp;adx=-12245933&amp;ady=-12245933&amp;biw=800&amp;bih=600&amp;scr_x=0&amp;scr_y=0&amp;eid=44759926%2C44759875%2C44777876%2C44759842%2C31073379%2C31073473%2C44774292&amp;oid=2&amp;pvsid=3115238121763954&amp;tmod=362823044&amp;nvt=1&amp;fc=1920&amp;brdim=0%2C0%2C0%2C0%2C800%2C0%2C800%2C600%2C800%2C600&amp;vis=1&amp;rsz=%7C%7Cenr%7C&amp;abl=CS&amp;fu=33024&amp;bc=31&amp;ifi=4&amp;uci=a!4&amp;fsb=1&amp;xpc=JjwPGtMZEM&amp;p=https%3A//www.randomlists.com&amp;dtd=373\" style=\"left:0;position:absolute;top:0;border:0;width:0px;height:0px;\" vspace=\"0\" width=\"0\"></iframe></div></ins> <script> (adsbygoogle = window.adsbygoogle || []).push({}); </script> </div> <footer class=\"footer section_gutter\"> <nav> <ul> <li><a href=\"/\">Home</a></li> <li><a href=\"/faq\">FAQ</a></li> <li><a href=\"/privacy\">Privacy Policy</a></li> <li><a href=\"/contact\">Contact</a></li> <li><a href=\"/list-randomizer\">Randomize your custom list</a></li> <li class=\"footer-sitemap\"><a href=\"/all\">Sitemap</a></li> </ul> </nav> <p class=\"disclosure\">This site is offered as is to those who visit it. We make no guarantees regarding its services. Just enjoy yourself.</p> </footer> </div> <div class=\"layout-side\"> <ins class=\"adsbygoogle adsbygoogle--side1\" data-ad-client=\"ca-pub-5711305288167877\" data-ad-slot=\"2304478467\" data-adsbygoogle-status=\"done\" style=\"display: inline-block; width: 160px; height: 600px;\"><div aria-label=\"Advertisement\" id=\"aswift_4_host\" style=\"border: none; height: 600px; width: 160px; margin: 0px; padding: 0px; position: relative; visibility: visible; background-color: transparent; display: inline-block;\" tabindex=\"0\" title=\"Advertisement\"><iframe allowtransparency=\"true\" data-google-container-id=\"a!5\" data-google-query-id=\"CKCAjOndhP4CFZTlmgod-fkFnQ\" data-load-complete=\"true\" frameborder=\"0\" height=\"600\" hspace=\"0\" id=\"aswift_4\" marginheight=\"0\" marginwidth=\"0\" name=\"aswift_4\" sandbox=\"allow-forms allow-popups allow-popups-to-escape-sandbox allow-same-origin allow-scripts allow-top-navigation-by-user-activation\" scrolling=\"no\" src=\"https://googleads.g.doubleclick.net/pagead/ads?client=ca-pub-5711305288167877&amp;output=html&amp;h=600&amp;slotname=2304478467&amp;adk=3657579490&amp;adf=2913177901&amp;pi=t.ma~as.2304478467&amp;w=160&amp;lmt=1680191109&amp;rafmt=12&amp;format=160x600&amp;url=https%3A%2F%2Fwww.randomlists.com%2Femail-addresses&amp;wgl=1&amp;dt=1680216391745&amp;bpp=1&amp;bdt=905&amp;idt=376&amp;shv=r20230328&amp;mjsv=m202303270101&amp;ptt=9&amp;saldr=aa&amp;abxe=1&amp;cookie=ID%3Db94b23a8591365f5-22933e334adc00d0%3AT%3D1680216380%3ART%3D1680216380%3AS%3DALNI_MaaJTTpDBWFkvtXLyGkJ8HEPhViXg&amp;gpic=UID%3D00000bf8fa6baa94%3AT%3D1680216380%3ART%3D1680216380%3AS%3DALNI_Mav6uZ-4N1VfJ0vmh-lcS-Uoi-kJg&amp;prev_fmts=0x0%2C468x60%2C336x280%2C0x0&amp;nras=1&amp;correlator=1820526538295&amp;frm=20&amp;pv=1&amp;ga_vid=476895667.1680216379&amp;ga_sid=1680216392&amp;ga_hid=1423241503&amp;ga_fc=1&amp;ga_cid=123464488.1680216381&amp;u_tz=60&amp;u_his=2&amp;u_h=600&amp;u_w=800&amp;u_ah=600&amp;u_aw=800&amp;u_cd=24&amp;u_sd=1&amp;dmc=8&amp;adx=640&amp;ady=17&amp;biw=800&amp;bih=600&amp;scr_x=0&amp;scr_y=0&amp;eid=44759926%2C44759875%2C44777876%2C44759842%2C31073379%2C31073473%2C44774292&amp;oid=2&amp;pvsid=3115238121763954&amp;tmod=362823044&amp;nvt=1&amp;fc=1920&amp;brdim=0%2C0%2C0%2C0%2C800%2C0%2C800%2C600%2C800%2C600&amp;vis=1&amp;rsz=%7C%7CeE%7C&amp;abl=CS&amp;pfx=0&amp;fu=256&amp;bc=31&amp;ifi=5&amp;uci=a!5&amp;fsb=1&amp;xpc=bMEjsGwLyu&amp;p=https%3A//www.randomlists.com&amp;dtd=386\" style=\"left:0;position:absolute;top:0;border:0;width:160px;height:600px;\" vspace=\"0\" width=\"160\"></iframe></div></ins> <script> (adsbygoogle = window.adsbygoogle || []).push({}); </script> <ins class=\"adsbygoogle adsbygoogle--side2\" data-ad-client=\"ca-pub-5711305288167877\" data-ad-slot=\"2304478467\" data-adsbygoogle-status=\"done\" style=\"display: inline-block; width: 160px; height: 0px;\"><div aria-label=\"Advertisement\" id=\"aswift_5_host\" style=\"border: none; height: 0px; width: 160px; margin: 0px; padding: 0px; position: relative; visibility: visible; background-color: transparent; display: inline-block; overflow: hidden; opacity: 0;\" tabindex=\"0\" title=\"Advertisement\"><iframe allowtransparency=\"true\" data-google-container-id=\"a!6\" data-google-query-id=\"CJnoi-ndhP4CFYXxmgoduDwMWw\" data-load-complete=\"true\" frameborder=\"0\" height=\"0\" hspace=\"0\" id=\"aswift_5\" marginheight=\"0\" marginwidth=\"0\" name=\"aswift_5\" sandbox=\"allow-forms allow-popups allow-popups-to-escape-sandbox allow-same-origin allow-scripts allow-top-navigation-by-user-activation\" scrolling=\"no\" src=\"https://googleads.g.doubleclick.net/pagead/ads?client=ca-pub-5711305288167877&amp;output=html&amp;h=600&amp;slotname=2304478467&amp;adk=3657579490&amp;adf=1327086493&amp;pi=t.ma~as.2304478467&amp;w=160&amp;lmt=1680191109&amp;rafmt=12&amp;format=160x600&amp;url=https%3A%2F%2Fwww.randomlists.com%2Femail-addresses&amp;wgl=1&amp;dt=1680216391746&amp;bpp=1&amp;bdt=906&amp;idt=396&amp;shv=r20230328&amp;mjsv=m202303270101&amp;ptt=9&amp;saldr=aa&amp;abxe=1&amp;cookie=ID%3Db94b23a8591365f5-22933e334adc00d0%3AT%3D1680216380%3ART%3D1680216380%3AS%3DALNI_MaaJTTpDBWFkvtXLyGkJ8HEPhViXg&amp;gpic=UID%3D00000bf8fa6baa94%3AT%3D1680216380%3ART%3D1680216380%3AS%3DALNI_Mav6uZ-4N1VfJ0vmh-lcS-Uoi-kJg&amp;prev_fmts=0x0%2C468x60%2C336x280%2C0x0%2C160x600&amp;nras=1&amp;correlator=1820526538295&amp;frm=20&amp;pv=1&amp;ga_vid=476895667.1680216379&amp;ga_sid=1680216392&amp;ga_hid=1423241503&amp;ga_fc=1&amp;ga_cid=123464488.1680216381&amp;u_tz=60&amp;u_his=2&amp;u_h=600&amp;u_w=800&amp;u_ah=600&amp;u_aw=800&amp;u_cd=24&amp;u_sd=1&amp;dmc=8&amp;adx=640&amp;ady=623&amp;biw=800&amp;bih=600&amp;scr_x=0&amp;scr_y=0&amp;eid=44759926%2C44759875%2C44777876%2C44759842%2C31073379%2C31073473%2C44774292&amp;oid=2&amp;pvsid=3115238121763954&amp;tmod=362823044&amp;nvt=1&amp;fc=1920&amp;brdim=0%2C0%2C0%2C0%2C800%2C0%2C800%2C600%2C800%2C600&amp;vis=1&amp;rsz=%7C%7CeEbr%7C&amp;abl=CS&amp;pfx=0&amp;fu=256&amp;bc=31&amp;ifi=6&amp;uci=a!6&amp;btvi=2&amp;fsb=1&amp;xpc=l7bCla4n0U&amp;p=https%3A//www.randomlists.com&amp;dtd=411\" style=\"left: 0px; position: absolute; top: 0px; border: 0px; width: 160px; height: 0px;\" vspace=\"0\" width=\"160\"></iframe></div></ins> <script> (adsbygoogle = window.adsbygoogle || []).push({}); </script> </div> </div> <script> const el_RS=document.querySelector(\".Rand-stage\"),el_RO=document.getElementById(\"rand_options\"),useWebP=function(){var e=document.createElement(\"canvas\");return!(!e.getContext||!e.getContext(\"2d\"))&&0==e.toDataURL(\"image/webp\").indexOf(\"data:image/webp\")}();function randomiseNumbers(e,t,n,r){e=parseInt(e),t=parseInt(t),n=parseInt(n);var o=t-e+1,a=new Array;if(r){for(var i=0;i<n;i++)a[i]=e+Math.floor(Math.random()*o);return a}var s=1;for(i=0;i<o;i++)s=(n-a.length)/(o-i),Math.random()<=s&&a.push(i+e);return randomise(a,n,r)}function randomise(e,t,n){if(Array.isArray(e)||(e=e.split(\"\")),e.shuffle(),n){for(var r=new Array,o=0;o<t;o++)r[o]=e[Math.floor(Math.random()*e.length)];return r}return t>0&&t<e.length?e.slice(0,t):e}Array.prototype.shuffle=function(){var e,t,n=this.length;if(0!=n)for(;--n;)e=Math.floor(Math.random()*(n+1)),t=this[n],this[n]=this[e],this[e]=t};const rand_json=function(){var e=[];const t=document.head.querySelectorAll(\"[data-rand_json]\");for(var n=t.length-1;n>=0;n--)e.unshift(t[n].getAttribute(\"href\"));return e}();function getRandOptions(){if(!el_RO)return;var e={};const t=el_RO.querySelectorAll(\"[name]\");for(var n=t.length-1;n>=0;n--){const r=t[n].getAttribute(\"name\"),o=t[n].getAttribute(\"id\"),a=document.getElementById(o);\"checkbox\"===t[n].type?e[r]=a.checked:e[r]=a.value}return e}function strip(e){return(new DOMParser).parseFromString(e,\"text/html\").body.textContent||\"\"}function triggerEvent(e,t){t=void 0===t?window:t;var n=document.createEvent(\"HTMLEvents\");n.initEvent(e,!1,!0),t.dispatchEvent(n)}function getJSON(e,t){var n=new XMLHttpRequest;n.open(\"GET\",e,!0),n.onload=function(){if(n.status>=200&&n.status<400){const e=JSON.parse(n.responseText);t(e)}},n.send()}function copyText(e){var t=document.createElement(\"input\");t.setAttribute(\"style\",\"opacity:0;position:absolute;\"),t.value=e,document.body.appendChild(t),t.select(),document.execCommand(\"copy\"),t.parentNode.removeChild(t)}if(function(){if(!el_RO)return;var e,t=(e||document.location.search).replace(/(^\\?)/,\"\").split(\"&\").map(function(e){return this[(e=e.split(\"=\"))[0]]=e[1],this}.bind({}))[0];const n=el_RO.querySelectorAll(\"[name]\");for(var r=n.length-1;r>=0;r--){var o=n[r].getAttribute(\"name\");if(!t[o])return;if(\"checkbox\"===n[r].type){const e=t[o]&&\"false\"!=t[o];n[r].checked=e}else{var a=decodeURIComponent(t[o]).replace(/\\+/g,\" \");n[r].value=strip(a)}}}(),el_RS){const e=function(){var e=document.getElementById(\"style_rand_stage\");e?e.innerHTML=\"\":((e=document.createElement(\"style\")).setAttribute(\"id\",\"style_rand_stage\"),document.getElementsByTagName(\"head\")[0].appendChild(e));var t=document.querySelector(\".Rand-stage > ol\");if(t){var n=t.offsetWidth,r=function(e,t,n){var r=document.querySelectorAll(e);if(0!=r.length){for(var o=0,a=0;a<r.length;a++){var i=r[a].offsetWidth;i>o&&(o=i)}var s=1/Math.floor(t/o);s=100*(s<1?s:1),n.innerHTML+=e+\"{min-width:\"+s+\"%;}\"}};r(\".Rand-stage > ol > li\",n,e),r(\".Rand-stage > ol ol > li\",n,e)}};window.addEventListener(\"rand_ran\",e),window.addEventListener(\"resize\",e),window.addEventListener(\"fonts_loaded\",e)}!function(){const e=document.head.querySelectorAll(\"[as=style]\");for(var t=e.length-1;t>=0;t--)e[t].setAttribute(\"rel\",\"stylesheet\")}();var runRand=function(){var n=getRandOptions();getJSON(rand_json,function(a){for(var r=a.data.un,e=a.data.dm,t=randomiseNumbers(0,r.length-1,n.qty,!0),d=randomiseNumbers(0,e.length-1,n.qty,!0),i=\"\",l=0;l<t.length;l++)i+=\"<li><div>\"+r[t[l]]+\"@\"+e[d[l]]+\"</div></li>\";el_RS.innerHTML=\"<ol class='rand_large'>\"+i+\"</ol>\",triggerEvent(\"rand_ran\")})};runRand(); </script> <noscript> <div class=\"js_notice\">You need to enable JavaScript. See: <a href=\"https://www.enable-javascript.com/\" target=\"_blank\">How to enable JavaScript in your browser</a></div> </noscript> <ins class=\"adsbygoogle adsbygoogle-noablate\" data-adsbygoogle-status=\"done\" style=\"display: none !important;\"><div aria-label=\"Advertisement\" id=\"aswift_0_host\" style=\"border: none; height: 0px; width: 0px; margin: 0px; padding: 0px; position: relative; visibility: visible; background-color: transparent; display: inline-block;\" tabindex=\"0\" title=\"Advertisement\"><iframe allowtransparency=\"true\" data-google-container-id=\"a!1\" data-load-complete=\"true\" frameborder=\"0\" hspace=\"0\" id=\"aswift_0\" marginheight=\"0\" marginwidth=\"0\" name=\"aswift_0\" sandbox=\"allow-forms allow-popups allow-popups-to-escape-sandbox allow-same-origin allow-scripts allow-top-navigation-by-user-activation\" scrolling=\"no\" src=\"https://googleads.g.doubleclick.net/pagead/ads?client=ca-pub-5711305288167877&amp;output=html&amp;adk=1812271804&amp;adf=3025194257&amp;lmt=1680191109&amp;plat=1%3A8%2C2%3A8%2C3%3A2162688%2C4%3A2162688%2C9%3A32776%2C16%3A8388608%2C17%3A32%2C24%3A32%2C25%3A32%2C30%3A1048576%2C32%3A32%2C41%3A32%2C42%3A32&amp;format=0x0&amp;url=https%3A%2F%2Fwww.randomlists.com%2Femail-addresses&amp;ea=0&amp;pra=5&amp;wgl=1&amp;dt=1680216391718&amp;bpp=20&amp;bdt=879&amp;idt=296&amp;shv=r20230328&amp;mjsv=m202303270101&amp;ptt=9&amp;saldr=aa&amp;abxe=1&amp;cookie=ID%3Db94b23a8591365f5-22933e334adc00d0%3AT%3D1680216380%3ART%3D1680216380%3AS%3DALNI_MaaJTTpDBWFkvtXLyGkJ8HEPhViXg&amp;gpic=UID%3D00000bf8fa6baa94%3AT%3D1680216380%3ART%3D1680216380%3AS%3DALNI_Mav6uZ-4N1VfJ0vmh-lcS-Uoi-kJg&amp;nras=1&amp;correlator=1820526538295&amp;frm=20&amp;pv=2&amp;ga_vid=476895667.1680216379&amp;ga_sid=1680216392&amp;ga_hid=1423241503&amp;ga_fc=1&amp;ga_cid=123464488.1680216381&amp;u_tz=60&amp;u_his=2&amp;u_h=600&amp;u_w=800&amp;u_ah=600&amp;u_aw=800&amp;u_cd=24&amp;u_sd=1&amp;dmc=8&amp;adx=-12245933&amp;ady=-12245933&amp;biw=800&amp;bih=600&amp;scr_x=0&amp;scr_y=0&amp;eid=44759926%2C44759875%2C44777876%2C44759842%2C31073379%2C31073473%2C44774292&amp;oid=2&amp;pvsid=3115238121763954&amp;tmod=362823044&amp;nvt=1&amp;fc=1920&amp;brdim=0%2C0%2C0%2C0%2C800%2C0%2C800%2C600%2C800%2C600&amp;vis=1&amp;rsz=%7C%7Cs%7C&amp;abl=NS&amp;fu=32768&amp;bc=31&amp;ifi=1&amp;uci=a!1&amp;fsb=1&amp;dtd=344\" style=\"left:0;position:absolute;top:0;border:0;width:undefinedpx;height:undefinedpx;\" vspace=\"0\"></iframe></div></ins></body><iframe id=\"google_esf\" name=\"google_esf\" src=\"https://googleads.g.doubleclick.net/pagead/html/r20230328/r20190131/zrt_lookup.html\" style=\"display: none;\"></iframe></html>"
      ]
     },
     "execution_count": 18,
     "metadata": {},
     "output_type": "execute_result"
    }
   ],
   "source": [
    "bs"
   ]
  },
  {
   "cell_type": "code",
   "execution_count": 19,
   "id": "33983781",
   "metadata": {},
   "outputs": [],
   "source": [
    "link_texts = bs.find_all('li')"
   ]
  },
  {
   "cell_type": "code",
   "execution_count": 20,
   "id": "db4030ab",
   "metadata": {},
   "outputs": [
    {
     "name": "stdout",
     "output_type": "stream",
     "text": [
      "miami@gmail.com\n",
      "thomasj@hotmail.com\n",
      "jkegl@hotmail.com\n",
      "xnormal@live.com\n",
      "blixem@comcast.net\n",
      "frode@yahoo.com\n",
      "eurohack@gmail.com\n",
      "bryanw@yahoo.com\n",
      "jkegl@yahoo.com\n",
      "afeldspar@icloud.com\n",
      "kalpol@gmail.com\n",
      "oevans@msn.com\n"
     ]
    }
   ],
   "source": [
    "for text in link_texts:\n",
    "    if '@' in text.text:\n",
    "        print(text.text)"
   ]
  },
  {
   "cell_type": "code",
   "execution_count": 21,
   "id": "8e448f78",
   "metadata": {},
   "outputs": [
    {
     "name": "stdout",
     "output_type": "stream",
     "text": [
      "miami@gmail.com\n",
      "thomasj@hotmail.com\n",
      "jkegl@hotmail.com\n",
      "xnormal@live.com\n",
      "blixem@comcast.net\n",
      "frode@yahoo.com\n",
      "eurohack@gmail.com\n",
      "bryanw@yahoo.com\n",
      "jkegl@yahoo.com\n",
      "afeldspar@icloud.com\n",
      "kalpol@gmail.com\n",
      "oevans@msn.com\n"
     ]
    }
   ],
   "source": [
    "for text in link_texts:\n",
    "    if re.search(REGEX_FOR_EMAIL, text.text):\n",
    "        print(text.text)"
   ]
  },
  {
   "cell_type": "code",
   "execution_count": null,
   "id": "5218b6d5",
   "metadata": {},
   "outputs": [],
   "source": []
  },
  {
   "cell_type": "code",
   "execution_count": null,
   "id": "960dbe73",
   "metadata": {},
   "outputs": [],
   "source": []
  }
 ],
 "metadata": {
  "kernelspec": {
   "display_name": "Python 3 (ipykernel)",
   "language": "python",
   "name": "python3"
  },
  "language_info": {
   "codemirror_mode": {
    "name": "ipython",
    "version": 3
   },
   "file_extension": ".py",
   "mimetype": "text/x-python",
   "name": "python",
   "nbconvert_exporter": "python",
   "pygments_lexer": "ipython3",
   "version": "3.9.6"
  }
 },
 "nbformat": 4,
 "nbformat_minor": 5
}
