{
 "cells": [
  {
   "cell_type": "code",
   "execution_count": 1,
   "id": "00688fea",
   "metadata": {},
   "outputs": [],
   "source": [
    "import pandas as pd\n",
    "import tweepy\n",
    "from bs4 import BeautifulSoup"
   ]
  },
  {
   "cell_type": "code",
   "execution_count": 2,
   "id": "ddc4de7b",
   "metadata": {},
   "outputs": [],
   "source": [
    "# read auth details from text file\n",
    "\n",
    "auth_details_read = open(\"C:\\\\Users\\\\Q\\\\Desktop\\\\Cypress\\\\twit_auth.txt\",\"r\")"
   ]
  },
  {
   "cell_type": "code",
   "execution_count": 3,
   "id": "7ab3f085",
   "metadata": {},
   "outputs": [],
   "source": [
    "auth_details = auth_details_read.readlines()\n",
    "\n",
    "auth_details_read.close()"
   ]
  },
  {
   "cell_type": "code",
   "execution_count": 4,
   "id": "683ff54c",
   "metadata": {},
   "outputs": [],
   "source": [
    "CONSUMER_KEY = auth_details[0].strip() # INSERT API/CONSUMER KEY\n",
    "CONSUMER_SECRET = auth_details[1].strip() # INSERT API/CONSUMER SECRET\n",
    "ACCESS_TOKEN = auth_details[2].strip() # INSERT ACCESS TOKEN\n",
    "ACCESS_TOKEN_SECRET = auth_details[3] # INSERT ACCESS SECRET\n",
    "\n",
    "\n",
    "# PASS IN YOUR AUTHENTICATION DETAILS\n",
    "auth = tweepy.OAuth1UserHandler(CONSUMER_KEY,\n",
    "                                CONSUMER_SECRET,\n",
    "                                ACCESS_TOKEN,\n",
    "                                ACCESS_TOKEN_SECRET)"
   ]
  },
  {
   "cell_type": "code",
   "execution_count": 5,
   "id": "d0c6e048",
   "metadata": {},
   "outputs": [],
   "source": [
    "api = tweepy.API(auth) 1671002024"
   ]
  },
  {
   "cell_type": "code",
   "execution_count": 19,
   "id": "ef6ba3fb",
   "metadata": {},
   "outputs": [
    {
     "data": {
      "text/plain": [
       "{'created_at': 'Sat Apr 08 13:54:12 +0000 2023',\n",
       " 'id': 1644700169487671298,\n",
       " 'id_str': '1644700169487671298',\n",
       " 'full_text': '@ChifeDr @threadreaderapp unroll',\n",
       " 'truncated': False,\n",
       " 'display_text_range': [9, 32],\n",
       " 'entities': {'hashtags': [],\n",
       "  'symbols': [],\n",
       "  'user_mentions': [{'screen_name': 'ChifeDr',\n",
       "    'name': 'Dr Aloy Chife',\n",
       "    'id': 1671002024,\n",
       "    'id_str': '1671002024',\n",
       "    'indices': [0, 8]},\n",
       "   {'screen_name': 'threadreaderapp',\n",
       "    'name': 'Thread Reader App',\n",
       "    'id': 895814938995957760,\n",
       "    'id_str': '895814938995957760',\n",
       "    'indices': [9, 25]}],\n",
       "  'urls': []},\n",
       " 'source': '<a href=\"http://twitter.com/download/android\" rel=\"nofollow\">Twitter for Android</a>',\n",
       " 'in_reply_to_status_id': 1644674406684270596,\n",
       " 'in_reply_to_status_id_str': '1644674406684270596',\n",
       " 'in_reply_to_user_id': 1671002024,\n",
       " 'in_reply_to_user_id_str': '1671002024',\n",
       " 'in_reply_to_screen_name': 'ChifeDr',\n",
       " 'user': {'id': 1014421232790462464,\n",
       "  'id_str': '1014421232790462464',\n",
       "  'name': 'Portharcourt 2nd Son',\n",
       "  'screen_name': 'Polymat43955419',\n",
       "  'location': '',\n",
       "  'description': 'Trained Apothecary.Evolving Human.Aspiring Private Military Contractor.Unapologetically Pro-Israel!',\n",
       "  'url': None,\n",
       "  'entities': {'description': {'urls': []}},\n",
       "  'protected': False,\n",
       "  'followers_count': 4881,\n",
       "  'friends_count': 4969,\n",
       "  'listed_count': 16,\n",
       "  'created_at': 'Wed Jul 04 08:10:43 +0000 2018',\n",
       "  'favourites_count': 60711,\n",
       "  'utc_offset': None,\n",
       "  'time_zone': None,\n",
       "  'geo_enabled': True,\n",
       "  'verified': False,\n",
       "  'statuses_count': 77484,\n",
       "  'lang': None,\n",
       "  'contributors_enabled': False,\n",
       "  'is_translator': False,\n",
       "  'is_translation_enabled': False,\n",
       "  'profile_background_color': 'F5F8FA',\n",
       "  'profile_background_image_url': None,\n",
       "  'profile_background_image_url_https': None,\n",
       "  'profile_background_tile': False,\n",
       "  'profile_image_url': 'http://pbs.twimg.com/profile_images/1536288121209462785/eJzcxetV_normal.jpg',\n",
       "  'profile_image_url_https': 'https://pbs.twimg.com/profile_images/1536288121209462785/eJzcxetV_normal.jpg',\n",
       "  'profile_link_color': '1DA1F2',\n",
       "  'profile_sidebar_border_color': 'C0DEED',\n",
       "  'profile_sidebar_fill_color': 'DDEEF6',\n",
       "  'profile_text_color': '333333',\n",
       "  'profile_use_background_image': True,\n",
       "  'has_extended_profile': False,\n",
       "  'default_profile': True,\n",
       "  'default_profile_image': False,\n",
       "  'following': False,\n",
       "  'follow_request_sent': False,\n",
       "  'notifications': False,\n",
       "  'translator_type': 'none',\n",
       "  'withheld_in_countries': []},\n",
       " 'geo': None,\n",
       " 'coordinates': None,\n",
       " 'place': None,\n",
       " 'contributors': None,\n",
       " 'is_quote_status': False,\n",
       " 'retweet_count': 0,\n",
       " 'favorite_count': 0,\n",
       " 'favorited': False,\n",
       " 'retweeted': False,\n",
       " 'lang': 'en'}"
      ]
     },
     "execution_count": 19,
     "metadata": {},
     "output_type": "execute_result"
    }
   ],
   "source": [
    "api.get_status('1644700169487671298', tweet_mode = \"extended\")._json"
   ]
  },
  {
   "cell_type": "code",
   "execution_count": 20,
   "id": "5039e880",
   "metadata": {},
   "outputs": [],
   "source": [
    "import tensorflow as tf"
   ]
  },
  {
   "cell_type": "code",
   "execution_count": 21,
   "id": "5cc47b2b",
   "metadata": {},
   "outputs": [],
   "source": [
    "from tensorflow.keras.layers import Dense, Conv2D, MaxPool2D, Flatten, Activation"
   ]
  },
  {
   "cell_type": "code",
   "execution_count": 22,
   "id": "e3aaaace",
   "metadata": {},
   "outputs": [],
   "source": [
    "from tensorflow.keras.models import Sequential"
   ]
  },
  {
   "cell_type": "code",
   "execution_count": null,
   "id": "e2b7dd6c",
   "metadata": {},
   "outputs": [],
   "source": [
    "u_name = '@ChifeDr'\n",
    "t_id = '1644671155482099716'\n",
    "thread = tweepy.Cursor(api.user_timeline, id=u_name, tweet_mode='extended').items()"
   ]
  },
  {
   "cell_type": "code",
   "execution_count": null,
   "id": "d38435c1",
   "metadata": {},
   "outputs": [],
   "source": [
    "thread.next()"
   ]
  },
  {
   "cell_type": "code",
   "execution_count": null,
   "id": "400bf3fb",
   "metadata": {},
   "outputs": [],
   "source": [
    "chife = api.get_user(screen_name='@ChifeDr', tweet_mode = \"extended\")"
   ]
  },
  {
   "cell_type": "code",
   "execution_count": null,
   "id": "090fbb0e",
   "metadata": {},
   "outputs": [],
   "source": [
    "chife.id"
   ]
  },
  {
   "cell_type": "code",
   "execution_count": null,
   "id": "430db297",
   "metadata": {},
   "outputs": [],
   "source": []
  }
 ],
 "metadata": {
  "kernelspec": {
   "display_name": "Python 3 (ipykernel)",
   "language": "python",
   "name": "python3"
  },
  "language_info": {
   "codemirror_mode": {
    "name": "ipython",
    "version": 3
   },
   "file_extension": ".py",
   "mimetype": "text/x-python",
   "name": "python",
   "nbconvert_exporter": "python",
   "pygments_lexer": "ipython3",
   "version": "3.9.6"
  }
 },
 "nbformat": 4,
 "nbformat_minor": 5
}
